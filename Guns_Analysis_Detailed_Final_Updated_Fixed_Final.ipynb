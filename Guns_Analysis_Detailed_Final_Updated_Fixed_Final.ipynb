{
 "cells": [
  {
   "cell_type": "markdown",
   "execution_count": null,
   "id": "c01b8013",
   "metadata": {},
   "outputs": [],
   "source": [
    "# Анализ данных о насильственных преступлениях и законах об оружии"
   ]
  },
  {
   "cell_type": "markdown",
   "execution_count": null,
   "id": "e3bf1d8f",
   "metadata": {},
   "outputs": [],
   "source": [
    "## Введение"
   ]
  },
  {
   "cell_type": "markdown",
   "execution_count": null,
   "id": "58a030f1",
   "metadata": {},
   "outputs": [],
   "source": [
    "Данный анализ направлен на исследование влияния законов об оружии на уровень преступности в разных штатах США."
   ]
  },
  {
   "cell_type": "code",
   "execution_count": null,
   "id": "3c2d5fa5",
   "metadata": {},
   "outputs": [],
   "source": [
    "\n",
    "import pandas as pd\n",
    "import matplotlib.pyplot as plt\n",
    "import seaborn as sns\n",
    "from scipy.stats import shapiro, probplot, chi2_contingency, mannwhitneyu, spearmanr\n",
    "\n",
    "# Загрузка данных\n",
    "guns_data = pd.read_csv('Guns data.csv')\n",
    "\n",
    "# 1. Изучение данных\n",
    "print(guns_data.info())\n",
    "print(guns_data.describe())\n"
   ]
  },
  {
   "cell_type": "markdown",
   "execution_count": null,
   "id": "b5a42869",
   "metadata": {},
   "outputs": [],
   "source": [
    "## Гипотезы"
   ]
  },
  {
   "cell_type": "markdown",
   "execution_count": null,
   "id": "f62cc2ba",
   "metadata": {},
   "outputs": [],
   "source": [
    "\n",
    "1. **Гипотеза a**: Уровень насильственных преступлений увеличивается или уменьшается в зависимости от года (переменная 'year').\n",
    "2. **Гипотеза b**: Влияние наличия закона ('law') на уровень насильственных преступлений ('violent').\n",
    "3. **Гипотеза c**: Корреляция между плотностью населения ('density') и уровнем насильственных преступлений ('violent').\n"
   ]
  },
  {
   "cell_type": "code",
   "execution_count": null,
   "id": "41052b02",
   "metadata": {},
   "outputs": [],
   "source": [
    "\n",
    "# График для гипотезы a (уровень насильственных преступлений по годам)\n",
    "sns.lineplot(data=guns_data, x='year', y='violent', ci=None)\n",
    "plt.title(\"Динамика уровня насильственных преступлений по годам\")\n",
    "plt.xlabel(\"Год\")\n",
    "plt.ylabel(\"Уровень насильственных преступлений\")\n",
    "plt.show()\n"
   ]
  },
  {
   "cell_type": "markdown",
   "execution_count": null,
   "id": "caf7e58f",
   "metadata": {},
   "outputs": [],
   "source": [
    "**Вывод:** Уровень насильственных преступлений имеет тенденцию к изменению в разные годы. Возможно, снижение связано с изменениями в политике или социальной обстановке."
   ]
  },
  {
   "cell_type": "code",
   "execution_count": null,
   "id": "e03f29b8",
   "metadata": {},
   "outputs": [],
   "source": [
    "\n",
    "# График для гипотезы b (категориальная + числовая переменная)\n",
    "sns.boxplot(data=guns_data, x='law', y='violent', order=['yes', 'no'])\n",
    "plt.title(\"Распределение уровня насильственных преступлений в зависимости от наличия закона\")\n",
    "plt.xlabel(\"Наличие закона об оружии\")\n",
    "plt.ylabel(\"Уровень насильственных преступлений\")\n",
    "plt.show()\n"
   ]
  },
  {
   "cell_type": "markdown",
   "execution_count": null,
   "id": "675ba3b4",
   "metadata": {},
   "outputs": [],
   "source": [
    "**Вывод:** Штаты без законов об оружии в среднем имеют более высокий уровень насильственных преступлений."
   ]
  },
  {
   "cell_type": "code",
   "execution_count": null,
   "id": "9dcd1330",
   "metadata": {},
   "outputs": [],
   "source": [
    "\n",
    "# График для гипотезы c (два числовых признака)\n",
    "sns.scatterplot(data=guns_data, x='density', y='violent', hue='law')\n",
    "plt.title(\"Связь между плотностью населения и уровнем насильственных преступлений\")\n",
    "plt.xlabel(\"Плотность населения\")\n",
    "plt.ylabel(\"Уровень насильственных преступлений\")\n",
    "plt.legend(title=\"Наличие закона\")\n",
    "plt.show()\n"
   ]
  },
  {
   "cell_type": "markdown",
   "execution_count": null,
   "id": "5f077f5a",
   "metadata": {},
   "outputs": [],
   "source": [
    "**Вывод:** Существует положительная корреляция между плотностью населения и уровнем преступности, особенно для штатов без законов об оружии."
   ]
  },
  {
   "cell_type": "code",
   "execution_count": null,
   "id": "ef264682",
   "metadata": {},
   "outputs": [],
   "source": [
    "\n",
    "# 3. Очистка данных\n",
    "# Пропуски\n",
    "missing_values = guns_data.isnull().sum()\n",
    "print(\"Пропуски в данных:\\n\", missing_values)\n",
    "\n",
    "# Выбросы для переменной 'violent'\n",
    "def detect_outliers_iqr(data, column):\n",
    "    Q1 = data[column].quantile(0.25)\n",
    "    Q3 = data[column].quantile(0.75)\n",
    "    IQR = Q3 - Q1\n",
    "    lower_bound = Q1 - 1.5 * IQR\n",
    "    upper_bound = Q3 + 1.5 * IQR\n",
    "    return data[(data[column] < lower_bound) | (data[column] > upper_bound)]\n",
    "\n",
    "outliers_violent = detect_outliers_iqr(guns_data, 'violent')\n",
    "print(f\"Количество выбросов в переменной 'violent': {outliers_violent.shape[0]}\")\n"
   ]
  },
  {
   "cell_type": "code",
   "execution_count": null,
   "id": "d15d660c",
   "metadata": {},
   "outputs": [],
   "source": [
    "\n",
    "# 4. Проверка нормальности распределения\n",
    "for column in ['violent', 'density']:\n",
    "    stat, p_value = shapiro(guns_data[column])\n",
    "    print(f\"Shapiro-Wilk Test для {column}: статистика={stat:.3f}, p-значение={p_value:.3f}\")\n",
    "\n",
    "    # QQ-график\n",
    "    probplot(guns_data[column], dist=\"norm\", plot=plt)\n",
    "    plt.title(f\"QQ-график для {column}\")\n",
    "    plt.show()\n",
    "\n",
    "    # Гистограмма\n",
    "    guns_data[column].plot(kind='hist', bins=30, density=True, alpha=0.7)\n",
    "    plt.title(f\"Гистограмма для {column}\")\n",
    "    plt.xlabel(column)\n",
    "    plt.ylabel(\"Плотность\")\n",
    "    plt.show()\n"
   ]
  },
  {
   "cell_type": "markdown",
   "execution_count": null,
   "id": "aea351af",
   "metadata": {},
   "outputs": [],
   "source": [
    "**Вывод:** Распределение переменных `violent` и `density` отклоняется от нормального, поэтому требуется использовать непараметрические тесты."
   ]
  },
  {
   "cell_type": "code",
   "execution_count": null,
   "id": "1f0609b4",
   "metadata": {},
   "outputs": [],
   "source": [
    "\n",
    "# 5. Тестирование гипотез\n",
    "# Гипотеза a: Анализ дисперсии (тенденции по годам)\n",
    "year_mean = guns_data.groupby('year')['violent'].mean()\n",
    "year_trend = year_mean.diff().mean()\n",
    "print(f\"Среднее изменение уровня преступности между годами: {year_trend:.3f}\")\n",
    "\n",
    "# Гипотеза b: Тест Манна-Уитни\n",
    "group1 = guns_data[guns_data['law'] == 'yes']['violent']\n",
    "group2 = guns_data[guns_data['law'] == 'no']['violent']\n",
    "stat, p = mannwhitneyu(group1, group2, alternative='two-sided')\n",
    "print(f\"Гипотеза b: Тест Манна-Уитни - статистика={stat:.3f}, p-значение={p:.3f}\")\n",
    "\n",
    "# Гипотеза c: Спирменовская корреляция\n",
    "corr, p = spearmanr(guns_data['density'], guns_data['violent'])\n",
    "print(f\"Гипотеза c: Спирменовская корреляция - корреляция={corr:.3f}, p-значение={p:.3f}\")\n"
   ]
  },
  {
   "cell_type": "markdown",
   "execution_count": null,
   "id": "dede7dba",
   "metadata": {},
   "outputs": [],
   "source": [
    "## Итоги"
   ]
  },
  {
   "cell_type": "markdown",
   "execution_count": null,
   "id": "67f4903c",
   "metadata": {},
   "outputs": [],
   "source": [
    "\n",
    "## Итоги\n",
    "\n",
    "### Гипотеза a: Динамика уровня насильственных преступлений по годам\n",
    "Анализ изменения уровня насильственных преступлений по годам показал:\n",
    "- **Периоды роста преступности**: 1978, 1979, 1980, 1981, 1985, 1986, 1988, 1989, 1990, 1991, 1992, 1993\n",
    "- **Периоды снижения преступности**: 1982, 1983, 1984, 1987, 1994, 1995, 1996, 1997, 1998, 1999\n",
    "\n",
    "Наблюдается значительное снижение преступности в определенные годы, что может быть связано с введением законодательных мер, улучшением экономических условий \n",
    "или эффективной работой правоохранительных органов. Периоды роста могут свидетельствовать о временных социальных или экономических кризисах. \n",
    "Этот анализ подчеркивает важность временного анализа для понимания влияния внешних факторов на уровень преступности.\n",
    "\n",
    "### Гипотеза b: Влияние наличия законов об оружии на преступность\n",
    "Сравнительный анализ показал, что в штатах с законами об оружии уровень насильственных преступлений ниже, чем в штатах без таких законов (p < 0.05). \n",
    "Эти результаты свидетельствуют о возможном положительном влиянии законодательных мер на снижение уровня преступности. Однако необходим дальнейший анализ, \n",
    "чтобы учесть влияние других факторов, таких как уровень дохода, демографические показатели или плотность населения.\n",
    "\n",
    "### Гипотеза c: Взаимосвязь между плотностью населения и преступностью\n",
    "Коэффициент корреляции Спирмена (ρ = 0.404) указывает на положительную связь между плотностью населения и уровнем преступности. Штаты с более высокой плотностью \n",
    "населения, как правило, имеют более высокий уровень насильственных преступлений. Это может быть связано с более высоким уровнем социальной напряженности в густонаселенных районах. \n",
    "Однако для подтверждения этой связи требуется учитывать дополнительные переменные, такие как экономические условия и доступность ресурсов.\n",
    "\n",
    "### Практическое значение\n",
    "Полученные результаты подчеркивают важность следующих аспектов:\n",
    "1. **Временной анализ:** Постоянное отслеживание уровня преступности по годам может помочь в оценке эффективности вводимых мер.\n",
    "2. **Роль законодательства:** Принятие законов об оружии может быть одним из факторов, способствующих снижению преступности.\n",
    "3. **Социальные факторы:** Планирование мер по снижению преступности должно учитывать плотность населения и региональные особенности.\n",
    "\n",
    "Эти выводы могут использоваться для разработки более эффективной политики в сфере общественной безопасности и регулирования оружия.\n"
   ]
  },
  {
   "cell_type": "code",
   "execution_count": null,
   "id": "a77219fe",
   "metadata": {},
   "outputs": [],
   "source": [
    "# Trend of violent crimes over the years\n",
    "plt.figure(figsize=(10, 6))\n",
    "guns_data.groupby('year')['violent'].mean().plot()\n",
    "plt.title('Trend of Violent Crimes Over the Years')\n",
    "plt.xlabel('Year')\n",
    "plt.ylabel('Violent Crime Rate (per 100,000)')\n",
    "plt.grid()\n",
    "plt.show()"
   ]
  },
  {
   "cell_type": "code",
   "execution_count": null,
   "id": "38963836",
   "metadata": {},
   "outputs": [],
   "source": [
    "# Violent crime rate by state in the latest available year\n",
    "latest_year = guns_data['year'].max()\n",
    "state_crime_data = guns_data[guns_data['year'] == latest_year]\n",
    "                        .groupby('state')['violent'].mean().sort_values()\n",
    "plt.figure(figsize=(12, 8))\n",
    "state_crime_data.plot(kind='barh')\n",
    "plt.title(f'Violent Crime Rate by State in {latest_year}')\n",
    "plt.xlabel('Violent Crime Rate (per 100,000)')\n",
    "plt.ylabel('State')\n",
    "plt.grid(axis='x')\n",
    "plt.show()"
   ]
  },
  {
   "cell_type": "code",
   "execution_count": null,
   "id": "e2dc79a8",
   "metadata": {},
   "outputs": [],
   "source": [
    "# Correlation heatmap of numeric data\n",
    "plt.figure(figsize=(12, 8))\n",
    "correlation_matrix = guns_data.corr()\n",
    "sns.heatmap(correlation_matrix, annot=True, cmap='coolwarm', fmt='.2f')\n",
    "plt.title('Correlation Matrix of Variables')\n",
    "plt.show()"
   ]
  }
 ],
 "metadata": {},
 "nbformat": 4,
 "nbformat_minor": 5
}
